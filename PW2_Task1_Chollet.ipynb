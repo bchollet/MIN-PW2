{
 "cells": [
  {
   "metadata": {},
   "cell_type": "markdown",
   "source": "# Task 1 - Mastermind",
   "id": "15e78173713db8cf"
  },
  {
   "metadata": {},
   "cell_type": "markdown",
   "source": "## Define Task",
   "id": "1e0e1e1510e677ab"
  },
  {
   "metadata": {
    "ExecuteTime": {
     "end_time": "2024-05-10T15:30:05.595714Z",
     "start_time": "2024-05-10T15:30:05.592655Z"
    }
   },
   "cell_type": "code",
   "source": [
    "N_LETTERS = 27 # 26 letters + space\n",
    "\n",
    "def text_to_numbers(text: str) -> list[int]:\n",
    "    number_list = []\n",
    "\n",
    "    for char in text:\n",
    "        if char == ' ':\n",
    "            number_list.append(0)\n",
    "        elif char.isalpha():\n",
    "            upper_char = char.upper()\n",
    "            letter_value = ord(upper_char) - ord('A') + 1\n",
    "            number_list.append(letter_value)\n",
    "    \n",
    "    return number_list\n",
    "\n",
    "def numbers_to_text(numbers: list[int]) -> str:\n",
    "    char_list = []\n",
    "\n",
    "    for num in numbers:\n",
    "        if num == 0:\n",
    "            char_list.append(' ')\n",
    "        elif 1 <= num <= 26:\n",
    "            char = chr(num + ord('A') - 1)\n",
    "            char_list.append(char)\n",
    "    \n",
    "    text = ''.join(char_list)\n",
    "    return text"
   ],
   "id": "5620bf5415f9c15c",
   "outputs": [],
   "execution_count": 69
  },
  {
   "metadata": {},
   "cell_type": "markdown",
   "source": "## Sentence to guess",
   "id": "d55812f6ae3329f"
  },
  {
   "metadata": {
    "ExecuteTime": {
     "end_time": "2024-05-10T15:30:05.608605Z",
     "start_time": "2024-05-10T15:30:05.605718Z"
    }
   },
   "cell_type": "code",
   "source": [
    "import numpy as np\n",
    "\n",
    "GOAL_SENTENCE = \"METHINKS IT IS LIKE A WEASEL\"\n",
    "correct_combination = text_to_numbers(GOAL_SENTENCE)\n",
    "N_CHARS = len(GOAL_SENTENCE)\n",
    "\n",
    "correct_chars_count = {\n",
    "    char: np.count_nonzero(correct_combination == char)\n",
    "    for char in np.unique(correct_combination)\n",
    "}\n",
    "\n",
    "print(correct_chars_count)"
   ],
   "id": "1dde01e1d54fd1c6",
   "outputs": [
    {
     "name": "stdout",
     "output_type": "stream",
     "text": [
      "{0: 5, 1: 2, 5: 4, 8: 1, 9: 4, 11: 2, 12: 2, 13: 1, 14: 1, 19: 3, 20: 2, 23: 1}\n"
     ]
    }
   ],
   "execution_count": 70
  },
  {
   "metadata": {},
   "cell_type": "markdown",
   "source": "## Define fitness function",
   "id": "fa5481c097a29128"
  },
  {
   "metadata": {
    "ExecuteTime": {
     "end_time": "2024-05-10T15:41:39.844936Z",
     "start_time": "2024-05-10T15:41:39.841952Z"
    }
   },
   "cell_type": "code",
   "source": [
    "# Score for guessing exactly a token\n",
    "SCORE_CORRECT_TOKEN = 1\n",
    "\n",
    "MAX_SCORE = SCORE_CORRECT_TOKEN * N_CHARS\n",
    "\n",
    "def score_chromosome(chromosome):\n",
    "    # Correct pegs score\n",
    "    correct_token_score = np.count_nonzero(np.array(chromosome) == correct_combination)\n",
    "    correct_token_score *= SCORE_CORRECT_TOKEN\n",
    "\n",
    "    return correct_token_score\n",
    "\n",
    "def fitness_function(ga_instance, solution, solution_idx):\n",
    "    return score_chromosome(solution)"
   ],
   "id": "d0a68cdeceafd15f",
   "outputs": [],
   "execution_count": 83
  },
  {
   "metadata": {},
   "cell_type": "markdown",
   "source": "## Define Callbacks",
   "id": "8c13e800aea1253"
  },
  {
   "metadata": {
    "ExecuteTime": {
     "end_time": "2024-05-10T15:41:42.106677Z",
     "start_time": "2024-05-10T15:41:42.104425Z"
    }
   },
   "cell_type": "code",
   "source": [
    "def on_generation(ga_instance):\n",
    "    solution, solution_fitness, solution_idx = ga_instance.best_solution()\n",
    "    print(\"Generation: \", ga_instance.generations_completed, \". Fitness: \", solution_fitness)\n",
    "    solution_sentence = print(numbers_to_text(solution))"
   ],
   "id": "9e5c16771b490948",
   "outputs": [],
   "execution_count": 84
  },
  {
   "metadata": {},
   "cell_type": "markdown",
   "source": "## Run genetic algorithm",
   "id": "b547d040bd2c2792"
  },
  {
   "metadata": {
    "ExecuteTime": {
     "end_time": "2024-05-10T15:42:32.858536Z",
     "start_time": "2024-05-10T15:42:32.689695Z"
    }
   },
   "cell_type": "code",
   "source": [
    "import pygad\n",
    "\n",
    "ga_instance = pygad.GA(\n",
    "    sol_per_pop=100,\n",
    "    num_genes=N_CHARS,\n",
    "    num_generations=100,\n",
    "    num_parents_mating=4,\n",
    "    fitness_func=fitness_function,\n",
    "    gene_type=int,\n",
    "    init_range_low=0,\n",
    "    init_range_high=(N_LETTERS - 1),\n",
    "    on_generation=on_generation,\n",
    "    mutation_type=\"random\",\n",
    "    mutation_probability=0.05,\n",
    "    mutation_by_replacement=True,\n",
    "    random_mutation_min_val=0.0,\n",
    "    random_mutation_max_val=(N_LETTERS - 1),\n",
    "    crossover_type=\"uniform\",\n",
    "    crossover_probability=0.8,\n",
    "    parent_selection_type=\"sss\", # steady state selection\n",
    "    stop_criteria=f\"reach_{MAX_SCORE}\"\n",
    ")\n",
    "\n",
    "ga_instance.run()"
   ],
   "id": "10f562af7134412a",
   "outputs": [
    {
     "name": "stdout",
     "output_type": "stream",
     "text": [
      "Generation:  1 . Fitness:  5\n",
      " WEJIU SVYDJEASBWUYKF W QDEN\n",
      "Generation:  2 . Fitness:  8\n",
      "HEUJIK SHYN FA JOCYCF WTMDNL\n",
      "Generation:  3 . Fitness:  10\n",
      "HENJIK SHYN FE JOKBCM WTQSEN\n",
      "Generation:  4 . Fitness:  12\n",
      "HENJIKKSHYN FT JOKYCM WTLSEL\n",
      "Generation:  5 . Fitness:  13\n",
      "HENJIKKSHYN FT JIKYCM WTLSEL\n",
      "Generation:  6 . Fitness:  14\n",
      "HEBJIKKSHYN IT JIKYCM WTLSEL\n",
      "Generation:  7 . Fitness:  15\n",
      "HEBJIKKS YN IT JIKYCM WTLSEL\n",
      "Generation:  8 . Fitness:  15\n",
      "HEBJIKKS YN IT JIKYCM WTLSEL\n",
      "Generation:  9 . Fitness:  15\n",
      "HEBJIKKS YN IT JIKYCM WTLSEL\n",
      "Generation:  10 . Fitness:  16\n",
      "HEBJIKKS YN IT JIKECM WTLSEL\n",
      "Generation:  11 . Fitness:  16\n",
      "HEBJIKKS YN IT JIKECM WTLSEL\n",
      "Generation:  12 . Fitness:  16\n",
      "HEBJIKKS YN IT JIKECM W LSEL\n",
      "Generation:  13 . Fitness:  17\n",
      "HEBJINKS UN I  JIKECS W LSEL\n",
      "Generation:  14 . Fitness:  19\n",
      "HEBHIKKS IT IJ JIKEYS W LSEL\n",
      "Generation:  15 . Fitness:  21\n",
      "HEBHINKS UT IS JIKECS W ASEL\n",
      "Generation:  16 . Fitness:  22\n",
      "IEBHINKS IT IS LIKEJW W ASEG\n",
      "Generation:  17 . Fitness:  23\n",
      "HEBHINKS IT IS LIKEJW W ASEL\n",
      "Generation:  18 . Fitness:  24\n",
      "HEBHINKS IT IS LIKECA W ASEL\n",
      "Generation:  19 . Fitness:  24\n",
      "HEBHINKS IT IS LIKEJA W ASEL\n",
      "Generation:  20 . Fitness:  24\n",
      "HEBHINKS IT IS LIKECA W ASEL\n",
      "Generation:  21 . Fitness:  24\n",
      "HEGHINKS IT IS LIKECA W ASEL\n",
      "Generation:  22 . Fitness:  25\n",
      "HECHINKS IT IS LIKEJA WEASEL\n",
      "Generation:  23 . Fitness:  25\n",
      "HECHINKS IT IS LIKEJA WEASEL\n",
      "Generation:  24 . Fitness:  25\n",
      "HEBHINKS IT IS LIKEJA WEASEL\n",
      "Generation:  25 . Fitness:  25\n",
      "UECHINKS IT IS LIKEJA WEASEL\n",
      "Generation:  26 . Fitness:  25\n",
      "HECHINKS IT IS LIKEJA WEASEL\n",
      "Generation:  27 . Fitness:  25\n",
      "HECHINKS IT IS LIKEJA WEASEL\n",
      "Generation:  28 . Fitness:  25\n",
      "HECHINKS IT IS LIKEJA WEASEL\n",
      "Generation:  29 . Fitness:  25\n",
      "HECHINKS IT IS LIKEJA WEASEL\n",
      "Generation:  30 . Fitness:  25\n",
      "UECHINKS IT IS LIKEJA WEASEL\n",
      "Generation:  31 . Fitness:  25\n",
      "HECHINKS IT IS LIKEJA WEASEL\n",
      "Generation:  32 . Fitness:  25\n",
      "HECHINKS IT IS LIKEYA WEASEL\n",
      "Generation:  33 . Fitness:  25\n",
      "HECHINKS IT IS LIKEYA WEASEL\n",
      "Generation:  34 . Fitness:  26\n",
      "HETHINKS IT IS LIKEYA WEASEL\n",
      "Generation:  35 . Fitness:  26\n",
      "HETHINKS IT IS LIKEYA WEASEL\n",
      "Generation:  36 . Fitness:  27\n",
      "HETHINKS IT IS LIKE A WEASEL\n",
      "Generation:  37 . Fitness:  27\n",
      "HETHINKS IT IS LIKE A WEASEL\n",
      "Generation:  38 . Fitness:  27\n",
      "HETHINKS IT IS LIKE A WEASEL\n",
      "Generation:  39 . Fitness:  27\n",
      "TETHINKS IT IS LIKE A WEASEL\n",
      "Generation:  40 . Fitness:  27\n",
      "TETHINKS IT IS LIKE A WEASEL\n",
      "Generation:  41 . Fitness:  27\n",
      "HETHINKS IT IS LIKE A WEASEL\n",
      "Generation:  42 . Fitness:  27\n",
      "HETHINKS IT IS LIKE A WEASEL\n",
      "Generation:  43 . Fitness:  27\n",
      "TETHINKS IT IS LIKE A WEASEL\n",
      "Generation:  44 . Fitness:  27\n",
      "HETHINKS IT IS LIKE A WEASEL\n",
      "Generation:  45 . Fitness:  28\n",
      "METHINKS IT IS LIKE A WEASEL\n"
     ]
    }
   ],
   "execution_count": 88
  },
  {
   "metadata": {},
   "cell_type": "markdown",
   "source": "## Report",
   "id": "2a97a7f61ebfd06d"
  },
  {
   "metadata": {
    "ExecuteTime": {
     "end_time": "2024-05-10T15:44:27.763653Z",
     "start_time": "2024-05-10T15:44:27.760527Z"
    }
   },
   "cell_type": "code",
   "source": "print(f\"Chromosome sequence with this solution is: {correct_combination}\")",
   "id": "55f62dee95910a79",
   "outputs": [
    {
     "name": "stdout",
     "output_type": "stream",
     "text": [
      "Chromosome sequence with this solution is: [13, 5, 20, 8, 9, 14, 11, 19, 0, 9, 20, 0, 9, 19, 0, 12, 9, 11, 5, 0, 1, 0, 23, 5, 1, 19, 5, 12]\n"
     ]
    }
   ],
   "execution_count": 89
  }
 ],
 "metadata": {
  "kernelspec": {
   "display_name": "Python 3",
   "language": "python",
   "name": "python3"
  },
  "language_info": {
   "codemirror_mode": {
    "name": "ipython",
    "version": 2
   },
   "file_extension": ".py",
   "mimetype": "text/x-python",
   "name": "python",
   "nbconvert_exporter": "python",
   "pygments_lexer": "ipython2",
   "version": "2.7.6"
  }
 },
 "nbformat": 4,
 "nbformat_minor": 5
}
