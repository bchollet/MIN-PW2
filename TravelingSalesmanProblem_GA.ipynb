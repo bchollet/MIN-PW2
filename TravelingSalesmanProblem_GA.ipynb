{
  "nbformat": 4,
  "nbformat_minor": 0,
  "metadata": {
    "colab": {
      "provenance": []
    },
    "kernelspec": {
      "name": "python3",
      "display_name": "Python 3"
    },
    "language_info": {
      "name": "python"
    }
  },
  "cells": [
    {
      "cell_type": "markdown",
      "source": [
        "## <font color=\"brown\">📙&nbsp;&nbsp;Introduction</font>\n",
        "\n",
        "The travelling salesman problem (TSP) asks the following question: Given a list of cities and the distances between each pair of cities, what is the shortest possible route that visits each city exactly once and returns to the origin city? It is an NP-hard problem in combinatorial optimization, important in operations research and theoretical computer science \\[Wikipedia\\]."
      ],
      "metadata": {
        "id": "RbHvl7qIQWw9"
      }
    },
    {
      "cell_type": "markdown",
      "source": [
        "## <font color=\"brown\">🎯&nbsp;&nbsp;Task</font>\n",
        "The objective of this exercise is to solve the TSP problem for a set of 14 cities in Burma, officially the Republic of the Union of Myanmar. The following vectors give the GPS position of each city.\n",
        "\n",
        "   LAT = [16.47, 16.47, 20.09, 22.39, 25.23, 22.00, 20.47, \n",
        "          17.20, 16.30, 14.05, 16.53, 21.52, 19.41, 20.09]\n",
        "\n",
        "   LON = [96.10, 94.44, 92.54, 93.37, 97.24, 96.05, 97.02, \n",
        "          96.29, 97.38, 98.12, 97.38, 95.59, 97.13, 94.55]\n",
        "  \n",
        "**<font color=\"green\">BONUS:</font>** Consider that the distance between two cities is not the Euclidean distance. You have to consider that they are points on the surface of the Earth, which can be considered to be an oblate spheroid."
      ],
      "metadata": {
        "id": "VbAY4GZ6fJKA"
      }
    },
    {
      "cell_type": "markdown",
      "source": [
        "## <font color=\"brown\">📝&nbsp;&nbsp;Report</font>\n",
        "\n",
        "\n",
        "1. Provide the better route you found and the shortest path in kilometers. Is it the optimal shortest path ? explain.\n",
        "2. Describe your fitness function\n",
        "3. Explain the way you encoded the solution, give a chromosome example.\n",
        "4. Provide the configuration of the GA you finally used to find your better results: mutation, crossover, population size, type of selection, mutation, crossover used, number of generations. Describe the methodology or experiments performed in order to get your better results.\n",
        "5. Provide relevant plots of your experiments and explanations.\n",
        "\n",
        "**Submit your notebook as well**"
      ],
      "metadata": {
        "id": "X5T0nzj7X0WB"
      }
    }
  ]
}